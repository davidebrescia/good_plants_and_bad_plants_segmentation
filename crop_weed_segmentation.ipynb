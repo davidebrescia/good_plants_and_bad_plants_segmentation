{
  "nbformat": 4,
  "nbformat_minor": 0,
  "metadata": {
    "accelerator": "GPU",
    "colab": {
      "name": "crop_weed_segmentation.ipynb",
      "provenance": [],
      "collapsed_sections": []
    },
    "kernelspec": {
      "display_name": "Python 3",
      "name": "python3"
    }
  },
  "cells": [
    {
      "cell_type": "code",
      "metadata": {
        "id": "87_qXfyB4jpj"
      },
      "source": [
        "''' Global parameters '''\n",
        "\n",
        "tiling = True \n",
        "# False: dataloader just resizes images. In test phase there's upscaling (bad performance).\n",
        "# True:  dataloader random crops images for training and validation datasets. In test phase there's the correct reconstruction of each image, with overlap.\n",
        "\n",
        "# Training/Validation dataset split proportion\n",
        "train_valid_split = 0.8\n",
        "\n",
        "# Batch size\n",
        "bs = 16\n",
        "\n",
        "# Img shape (both for tiling = True/False)\n",
        "img_h = 256\n",
        "img_w = 256"
      ],
      "execution_count": null,
      "outputs": []
    },
    {
      "cell_type": "code",
      "metadata": {
        "id": "D5UH_6-gUN4C"
      },
      "source": [
        "import os\n",
        "import math\n",
        "import json\n",
        "import tensorflow as tf\n",
        "import numpy as np\n",
        "import pandas as pd\n",
        "from PIL import Image\n",
        "from google.colab import drive\n",
        "from datetime import datetime\n",
        "import matplotlib.pyplot as plt "
      ],
      "execution_count": null,
      "outputs": []
    },
    {
      "cell_type": "code",
      "metadata": {
        "colab": {
          "base_uri": "https://localhost:8080/"
        },
        "id": "0bhZTeIaXBRe",
        "outputId": "97523331-03fc-4b0d-a8d6-5788ed0b6afc"
      },
      "source": [
        "SEED = 1234\n",
        "tf.random.set_seed(SEED)\n",
        "np.random.seed(seed = SEED)\n",
        "\n",
        "cwd = os.getcwd()\n",
        "\n",
        "drive.mount('/content/drive')"
      ],
      "execution_count": null,
      "outputs": [
        {
          "output_type": "stream",
          "text": [
            "Drive already mounted at /content/drive; to attempt to forcibly remount, call drive.mount(\"/content/drive\", force_remount=True).\n"
          ],
          "name": "stdout"
        }
      ]
    },
    {
      "cell_type": "markdown",
      "metadata": {
        "id": "MkfP4t7zrOP5"
      },
      "source": [
        "# Data Augmentation"
      ]
    },
    {
      "cell_type": "code",
      "metadata": {
        "id": "DCbT5I8MXEEE"
      },
      "source": [
        "# Data Augmentation\n",
        "\n",
        "from tensorflow.keras.preprocessing.image import ImageDataGenerator\n",
        "\n",
        "apply_data_augmentation = True\n",
        "\n",
        "if apply_data_augmentation:\n",
        "    images_data_gen = ImageDataGenerator(rotation_range=10,\n",
        "                                        width_shift_range=10,\n",
        "                                        height_shift_range=10,\n",
        "                                        zoom_range=0.3,\n",
        "                                        horizontal_flip=True,\n",
        "                                        vertical_flip=True,\n",
        "                                        fill_mode='reflect',\n",
        "                                        cval=0,\n",
        "                                        rescale=1./255)\n",
        "\n",
        "    masks_data_gen = ImageDataGenerator(rotation_range=10,\n",
        "                                        width_shift_range=10,\n",
        "                                        height_shift_range=10,\n",
        "                                        zoom_range=0.3,\n",
        "                                        horizontal_flip=True,\n",
        "                                        vertical_flip=True,\n",
        "                                        fill_mode='reflect',\n",
        "                                        cval=0)\n",
        "    \n",
        "else:\n",
        "  images_data_gen = ImageDataGenerator(rescale=1./255)\n",
        "  masks_data_gen = ImageDataGenerator()"
      ],
      "execution_count": null,
      "outputs": []
    },
    {
      "cell_type": "markdown",
      "metadata": {
        "id": "ps_3X2fSWRac"
      },
      "source": [
        "#Data Loading"
      ]
    },
    {
      "cell_type": "code",
      "metadata": {
        "id": "pSCHgY3guJI0"
      },
      "source": [
        "dataset_dir = os.path.join(cwd, '/content/drive/My Drive/weeds_localizator/Development_Dataset/')\n",
        "training_dir = os.path.join(dataset_dir, 'Training')\n",
        "\n",
        "# Function to import a specific dataset\n",
        "def import_specific_dataset(dataset_name, vegetable_name):\n",
        "\n",
        "  # take the path of the vegetable\n",
        "  vegetable_dir = training_dir + '/' + dataset_name + '/' + vegetable_name\n",
        "\n",
        "  # path of the image\n",
        "  images_dir = vegetable_dir + '/Images'\n",
        "  images = []\n",
        "  masks = []\n",
        "\n",
        "  for filename in os.listdir(images_dir):\n",
        "    image_path = images_dir + '/' + filename\n",
        "    images.append(image_path)\n",
        "    mask_path = vegetable_dir + '/Masks/' + filename.split(\".\")[-2] + '.png'\n",
        "    masks.append(mask_path)\n",
        "  df = pd.DataFrame(zip(images, masks))\n",
        "  return df"
      ],
      "execution_count": null,
      "outputs": []
    },
    {
      "cell_type": "code",
      "metadata": {
        "id": "0dc01BSvuMSq"
      },
      "source": [
        "# Choose which dataset to include\n",
        "\n",
        "df1 = import_specific_dataset('Bipbip', 'Haricot')\n",
        "#df2 = import_specific_dataset('Bipbip', 'Mais')\n",
        "df3 = import_specific_dataset('Weedelec', 'Haricot')\n",
        "#df4 = import_specific_dataset('Weedelec', 'Mais')\n",
        "df5 = import_specific_dataset('Roseau', 'Haricot')\n",
        "#df6 = import_specific_dataset('Roseau', 'Mais')\n",
        "\n",
        "# 'Pead' was exluded because it shows very different images with respect to other datasets \n",
        "\n",
        "df = pd.concat([df1, df3, df5]) # df is the union of all chosen datasets"
      ],
      "execution_count": null,
      "outputs": []
    },
    {
      "cell_type": "code",
      "metadata": {
        "id": "Sh7MDR5euZ3s"
      },
      "source": [
        "# Shuffle\n",
        "\n",
        "df = df.sample(frac=1).reset_index(drop=True)\n",
        "\n",
        "\n",
        "# Training/Validation Split\n",
        "\n",
        "train_dataFrame = pd.DataFrame()\n",
        "valid_dataFrame = pd.DataFrame()\n",
        "\n",
        "train_dataFrame = train_dataFrame.append(df.head(math.floor(len(df.index) * train_valid_split)), ignore_index=True)\n",
        "valid_dataFrame = valid_dataFrame.append(df.tail(len(df)-math.floor(len(df.index) * train_valid_split)), ignore_index=True)\n",
        "\n",
        "train_images_dataframe = train_dataFrame[0]\n",
        "train_masks_dataframe = train_dataFrame[1]\n",
        "valid_images_dataframe = valid_dataFrame[0]\n",
        "valid_masks_dataframe = valid_dataFrame[1]"
      ],
      "execution_count": null,
      "outputs": []
    },
    {
      "cell_type": "code",
      "metadata": {
        "id": "NOwqXwFQwi8b"
      },
      "source": [
        "def read_rgb_mask(img_path):\n",
        "    mask_img = Image.open(img_path)\n",
        "    mask_arr = np.array(mask_img)\n",
        "\n",
        "    new_mask_arr = np.zeros(mask_arr.shape[:2], dtype=mask_arr.dtype)\n",
        "    \n",
        "    # In the original version it was: \n",
        "    # new_mask_arr[np.where(np.all(mask_arr == [216, 124, 18], axis=-1))] \n",
        "    # Here's the corrected one:\n",
        "    new_mask_arr[np.where(np.all(mask_arr == [254, 124, 18], axis=-1))] = 0  # Other vegetation, transform it into background\n",
        "    new_mask_arr[np.where(np.all(mask_arr == [255, 255, 255], axis=-1))] = 1 # Crop\n",
        "    new_mask_arr[np.where(np.all(mask_arr == [216, 67, 82], axis=-1))] = 2   # Weed\n",
        "\n",
        "    return new_mask_arr"
      ],
      "execution_count": null,
      "outputs": []
    },
    {
      "cell_type": "code",
      "metadata": {
        "id": "YJu1o5vFy3yd"
      },
      "source": [
        "# Define a random crop of size out_dim x out_dim of the image \"img\" and mask \"mask\"\n",
        "def random_crop(img, mask, out_dim): # Used for tiling\n",
        "  x, y = img.size\n",
        "\n",
        "  rand_x = np.random.uniform(low = 0.0, high = x - out_dim)\n",
        "  rand_y = np.random.uniform(low = 0.0, high = y - out_dim)\n",
        "\n",
        "  img = img.crop((rand_x, rand_y, rand_x + out_dim, rand_y + out_dim))\n",
        "  mask = mask.crop((rand_x, rand_y, rand_x + out_dim, rand_y + out_dim))\n",
        "\n",
        "  return img, mask"
      ],
      "execution_count": null,
      "outputs": []
    },
    {
      "cell_type": "code",
      "metadata": {
        "id": "EpdocbKFwlan"
      },
      "source": [
        "class CustomDataset(tf.keras.utils.Sequence):\n",
        "\n",
        "  def __init__(self, images, masks, isTrain, img_generator=None, mask_generator=None, preprocessing_function=None, out_shape=[256, 256], tiling=False):\n",
        "\n",
        "    # added some parameters to split between training dataset (isTrain) and using tiling (tiling)\n",
        "    self.isTrain = isTrain\n",
        "    self.images = images\n",
        "    self.masks = masks\n",
        "    self.img_generator = img_generator\n",
        "    self.mask_generator = mask_generator\n",
        "    self.preprocessing_function = preprocessing_function\n",
        "    self.out_shape = out_shape\n",
        "    self.tiling = tiling\n",
        "\n",
        "  def __len__(self):\n",
        "    return len(self.images)\n",
        "\n",
        "  def __getitem__(self, index):\n",
        "    # take the specific name of the image\n",
        "    curr_image =  self.images.iloc[index]   # If you use the other Data path creator, here you must add '.filename' at the end\n",
        "    curr_mask = self.masks.iloc[index]      # Same here\n",
        "\n",
        "    # open the image in the Images folder and the correspondent mask\n",
        "    img = Image.open(curr_image)\n",
        "    mask = Image.fromarray(read_rgb_mask(curr_mask)) # Mask is changed\n",
        "\n",
        "    if self.tiling:\n",
        "      img, mask = random_crop(img, mask, self.out_shape[0])      # PS: out_shape must be a square\n",
        "    else:  \n",
        "      # Resize image and mask\n",
        "      img = img.resize(self.out_shape)\n",
        "      mask = mask.resize(self.out_shape, resample=Image.NEAREST)\n",
        "    \n",
        "    img_arr = np.array(img)\n",
        "    mask_arr = np.array(mask)\n",
        "    \n",
        "    mask_arr = np.expand_dims(mask_arr, -1)\n",
        "\n",
        "    # perform data augmentation only if the creating dataset is the training one\n",
        "    if self.isTrain:\n",
        "      if self.img_generator is not None and self.mask_generator is not None:\n",
        "        # Perform data augmentation\n",
        "        img_t = self.img_generator.get_random_transform(img_arr.shape, seed=SEED)\n",
        "        mask_t = self.mask_generator.get_random_transform(mask_arr.shape, seed=SEED)\n",
        "        img_arr = self.img_generator.apply_transform(img_arr, img_t)\n",
        "\n",
        "        # returns an np_array with the same shape as mask_arr\n",
        "        out_mask = np.zeros_like(mask_arr)\n",
        "        for c in np.unique(mask_arr):\n",
        "          if c > 0:\n",
        "            curr_class_arr = np.float32(mask_arr == c)\n",
        "            curr_class_arr = self.mask_generator.apply_transform(curr_class_arr, mask_t)\n",
        "            curr_class_arr = np.uint8(curr_class_arr)\n",
        "            curr_class_arr = curr_class_arr * c \n",
        "            out_mask += curr_class_arr\n",
        "    else:\n",
        "      out_mask = mask_arr\n",
        "    \n",
        "    if self.preprocessing_function is not None:\n",
        "        img_arr = self.preprocessing_function(img_arr)\n",
        "\n",
        "    return img_arr, np.float32(out_mask)"
      ],
      "execution_count": null,
      "outputs": []
    },
    {
      "cell_type": "code",
      "metadata": {
        "id": "WiyBcRE_XgK4"
      },
      "source": [
        "# Training generator\n",
        "train_gen = CustomDataset(images = train_images_dataframe, \n",
        "                          masks = train_masks_dataframe, \n",
        "                          isTrain = True, \n",
        "                          img_generator = images_data_gen, \n",
        "                          mask_generator = masks_data_gen, \n",
        "                          out_shape = [img_h, img_w], \n",
        "                          tiling = tiling)\n",
        "\n",
        "train_dataset = tf.data.Dataset.from_generator(lambda: train_gen,\n",
        "                                               output_types=(tf.float32, tf.float32),\n",
        "                                               output_shapes=([img_h, img_w, 3], [img_h, img_w, 1]))\n",
        "\n",
        "train_dataset = train_dataset.batch(bs)\n",
        "\n",
        "train_dataset = train_dataset.repeat()\n",
        "\n",
        "\n",
        "# Validation generator\n",
        "valid_gen = CustomDataset(images = valid_images_dataframe, \n",
        "                          masks = valid_masks_dataframe, \n",
        "                          isTrain = False, \n",
        "                          img_generator = images_data_gen, \n",
        "                          mask_generator = masks_data_gen, \n",
        "                          out_shape = [img_h, img_w], \n",
        "                          tiling = tiling)\n",
        "\n",
        "valid_dataset = tf.data.Dataset.from_generator(lambda: valid_gen, \n",
        "                                               output_types=(tf.float32, tf.float32),\n",
        "                                               output_shapes=([img_h, img_w, 3], [img_h, img_w, 1]))\n",
        "\n",
        "valid_dataset = valid_dataset.batch(bs)\n",
        "\n",
        "valid_dataset = valid_dataset.repeat()"
      ],
      "execution_count": null,
      "outputs": []
    },
    {
      "cell_type": "markdown",
      "metadata": {
        "id": "Jbbw9QFf-hwY"
      },
      "source": [
        "## Visualize an image from the train/validation dataset"
      ]
    },
    {
      "cell_type": "code",
      "metadata": {
        "id": "N8dhddVyQPHd"
      },
      "source": [
        "iterator = iter(valid_dataset)"
      ],
      "execution_count": null,
      "outputs": []
    },
    {
      "cell_type": "code",
      "metadata": {
        "id": "_r7YdF2IQPll",
        "colab": {
          "base_uri": "https://localhost:8080/",
          "height": 220
        },
        "outputId": "b41ead12-5cd8-4c5f-9aec-f301270de998"
      },
      "source": [
        "# Run this cell to visualize augmented image - mask from the dataset\n",
        "\n",
        "fig, ax = plt.subplots(1, 2)\n",
        "\n",
        "augmented_img, target = next(iterator)\n",
        "print(np.unique(target[0])) # Prints which classes are present inside the augmented image\n",
        "\n",
        "ax[0].imshow(np.uint8(augmented_img[0]))\n",
        "ax[1].imshow(np.uint8(target[0,:,:,0]))\n",
        "\n",
        "plt.show()"
      ],
      "execution_count": null,
      "outputs": [
        {
          "output_type": "stream",
          "text": [
            "[0. 2.]\n"
          ],
          "name": "stdout"
        },
        {
          "output_type": "display_data",
          "data": {
            "image/png": "[encoded data removed]",
            "text/plain": [
              "<Figure size 432x288 with 2 Axes>"
            ]
          },
          "metadata": {
            "tags": [],
            "needs_background": "light"
          }
        }
      ]
    },
    {
      "cell_type": "markdown",
      "metadata": {
        "id": "NFzSlKGaT_EB"
      },
      "source": [
        "# Model creation"
      ]
    },
    {
      "cell_type": "markdown",
      "metadata": {
        "id": "7vzuNltwgwYv"
      },
      "source": [
        "## Enc-Dec"
      ]
    },
    {
      "cell_type": "code",
      "metadata": {
        "id": "kK2vJhmj1B9l"
      },
      "source": [
        "def create_model(depth, start_f, num_classes, dynamic_input_shape): \n",
        "\n",
        "    model = tf.keras.Sequential()\n",
        "    \n",
        "    # Encoder\n",
        "    for i in range(depth):\n",
        "        \n",
        "        if i == 0:\n",
        "            if dynamic_input_shape:\n",
        "                input_shape = [None, None, 3]\n",
        "            else:\n",
        "                input_shape = [img_h, img_w, 3]\n",
        "        else:\n",
        "            input_shape=[None]\n",
        "        \n",
        "        model.add(tf.keras.layers.Conv2D(filters=start_f, \n",
        "                                         kernel_size=(3, 3),\n",
        "                                         strides=(1, 1),\n",
        "                                         padding='same',\n",
        "                                         input_shape=input_shape))\n",
        "        model.add(tf.keras.layers.ReLU())\n",
        "        model.add(tf.keras.layers.MaxPool2D(pool_size=(2, 2)))\n",
        "\n",
        "        start_f *= 2\n",
        "\n",
        "    # Bottleneck\n",
        "    model.add(tf.keras.layers.Conv2D(filters=start_f, kernel_size=(3, 3), strides=(1, 1), padding='same'))\n",
        "    model.add(tf.keras.layers.ReLU())\n",
        "    \n",
        "    start_f = start_f // 2\n",
        "        \n",
        "    # Decoder\n",
        "    for i in range(depth):\n",
        "        # the 2 indicates the doubled dim after each iteration\n",
        "        model.add(tf.keras.layers.UpSampling2D(size = (2,2)))\n",
        "        model.add(tf.keras.layers.Conv2D(filters=start_f,\n",
        "                                         kernel_size=(3, 3),\n",
        "                                         strides=(1, 1),\n",
        "                                         padding='same'))\n",
        "        model.add(tf.keras.layers.ReLU())\n",
        "\n",
        "        start_f = start_f // 2\n",
        "\n",
        "    # Prediction Layer\n",
        "    model.add(tf.keras.layers.Conv2D(filters=3,\n",
        "                                     kernel_size=(1, 1),\n",
        "                                     strides=(1, 1),\n",
        "                                     padding='same',\n",
        "                                     activation='softmax'))\n",
        "    \n",
        "    return model"
      ],
      "execution_count": null,
      "outputs": []
    },
    {
      "cell_type": "code",
      "metadata": {
        "id": "3i-J_6HS1BHO",
        "colab": {
          "base_uri": "https://localhost:8080/"
        },
        "outputId": "f626f338-5b7d-4957-b444-5a50175c78bb"
      },
      "source": [
        "# After many trials, we found that the best hyperparameters were the initial ones:\n",
        "# depth = 5\n",
        "# start_f = 16\n",
        "\n",
        "model = create_model(depth=5, \n",
        "                     start_f=16, \n",
        "                     num_classes=3, \n",
        "                     dynamic_input_shape=False)\n",
        "\n",
        "model.summary()"
      ],
      "execution_count": null,
      "outputs": [
        {
          "output_type": "stream",
          "text": [
            "Model: \"sequential_2\"\n",
            "_________________________________________________________________\n",
            "Layer (type)                 Output Shape              Param #   \n",
            "=================================================================\n",
            "conv2d_24 (Conv2D)           (None, 256, 256, 16)      448       \n",
            "_________________________________________________________________\n",
            "re_lu_22 (ReLU)              (None, 256, 256, 16)      0         \n",
            "_________________________________________________________________\n",
            "max_pooling2d_10 (MaxPooling (None, 128, 128, 16)      0         \n",
            "_________________________________________________________________\n",
            "conv2d_25 (Conv2D)           (None, 128, 128, 32)      4640      \n",
            "_________________________________________________________________\n",
            "re_lu_23 (ReLU)              (None, 128, 128, 32)      0         \n",
            "_________________________________________________________________\n",
            "max_pooling2d_11 (MaxPooling (None, 64, 64, 32)        0         \n",
            "_________________________________________________________________\n",
            "conv2d_26 (Conv2D)           (None, 64, 64, 64)        18496     \n",
            "_________________________________________________________________\n",
            "re_lu_24 (ReLU)              (None, 64, 64, 64)        0         \n",
            "_________________________________________________________________\n",
            "max_pooling2d_12 (MaxPooling (None, 32, 32, 64)        0         \n",
            "_________________________________________________________________\n",
            "conv2d_27 (Conv2D)           (None, 32, 32, 128)       73856     \n",
            "_________________________________________________________________\n",
            "re_lu_25 (ReLU)              (None, 32, 32, 128)       0         \n",
            "_________________________________________________________________\n",
            "max_pooling2d_13 (MaxPooling (None, 16, 16, 128)       0         \n",
            "_________________________________________________________________\n",
            "conv2d_28 (Conv2D)           (None, 16, 16, 256)       295168    \n",
            "_________________________________________________________________\n",
            "re_lu_26 (ReLU)              (None, 16, 16, 256)       0         \n",
            "_________________________________________________________________\n",
            "max_pooling2d_14 (MaxPooling (None, 8, 8, 256)         0         \n",
            "_________________________________________________________________\n",
            "conv2d_29 (Conv2D)           (None, 8, 8, 512)         1180160   \n",
            "_________________________________________________________________\n",
            "re_lu_27 (ReLU)              (None, 8, 8, 512)         0         \n",
            "_________________________________________________________________\n",
            "up_sampling2d_10 (UpSampling (None, 16, 16, 512)       0         \n",
            "_________________________________________________________________\n",
            "conv2d_30 (Conv2D)           (None, 16, 16, 256)       1179904   \n",
            "_________________________________________________________________\n",
            "re_lu_28 (ReLU)              (None, 16, 16, 256)       0         \n",
            "_________________________________________________________________\n",
            "up_sampling2d_11 (UpSampling (None, 32, 32, 256)       0         \n",
            "_________________________________________________________________\n",
            "conv2d_31 (Conv2D)           (None, 32, 32, 128)       295040    \n",
            "_________________________________________________________________\n",
            "re_lu_29 (ReLU)              (None, 32, 32, 128)       0         \n",
            "_________________________________________________________________\n",
            "up_sampling2d_12 (UpSampling (None, 64, 64, 128)       0         \n",
            "_________________________________________________________________\n",
            "conv2d_32 (Conv2D)           (None, 64, 64, 64)        73792     \n",
            "_________________________________________________________________\n",
            "re_lu_30 (ReLU)              (None, 64, 64, 64)        0         \n",
            "_________________________________________________________________\n",
            "up_sampling2d_13 (UpSampling (None, 128, 128, 64)      0         \n",
            "_________________________________________________________________\n",
            "conv2d_33 (Conv2D)           (None, 128, 128, 32)      18464     \n",
            "_________________________________________________________________\n",
            "re_lu_31 (ReLU)              (None, 128, 128, 32)      0         \n",
            "_________________________________________________________________\n",
            "up_sampling2d_14 (UpSampling (None, 256, 256, 32)      0         \n",
            "_________________________________________________________________\n",
            "conv2d_34 (Conv2D)           (None, 256, 256, 16)      4624      \n",
            "_________________________________________________________________\n",
            "re_lu_32 (ReLU)              (None, 256, 256, 16)      0         \n",
            "_________________________________________________________________\n",
            "conv2d_35 (Conv2D)           (None, 256, 256, 3)       51        \n",
            "=================================================================\n",
            "Total params: 3,144,643\n",
            "Trainable params: 3,144,643\n",
            "Non-trainable params: 0\n",
            "_________________________________________________________________\n"
          ],
          "name": "stdout"
        }
      ]
    },
    {
      "cell_type": "markdown",
      "metadata": {
        "id": "X5mCvc0XYp8q"
      },
      "source": [
        "## Transfer learning (VGG + Decoder)\n",
        "\n"
      ]
    },
    {
      "cell_type": "code",
      "metadata": {
        "id": "t0-iMAOXZcFO"
      },
      "source": [
        "vgg = tf.keras.applications.VGG16(weights='imagenet', include_top=False, input_shape=(img_h, img_w, 3))\n",
        "vgg.summary()\n",
        "for layer in vgg.layers:\n",
        "  layer.trainable = False"
      ],
      "execution_count": null,
      "outputs": []
    },
    {
      "cell_type": "code",
      "metadata": {
        "id": "st83I3B6Y3jw"
      },
      "source": [
        "def create_vgg_model(depth, start_f, num_classes): \n",
        " \n",
        "    model = tf.keras.Sequential() \n",
        "     \n",
        "    # Encoder \n",
        "    model.add(vgg) \n",
        "     \n",
        "    start_f = 256 \n",
        "         \n",
        "    # Decoder \n",
        "    for i in range(depth): \n",
        "        model.add(tf.keras.layers.UpSampling2D(2, interpolation='bilinear')) \n",
        "        model.add(tf.keras.layers.Conv2D(filters=start_f, \n",
        "                                         kernel_size=(3, 3), \n",
        "                                         strides=(1, 1), \n",
        "                                         padding='same')) \n",
        "        model.add(tf.keras.layers.ReLU()) \n",
        " \n",
        "        start_f = start_f // 2 \n",
        " \n",
        "    # Prediction Layer \n",
        "    model.add(tf.keras.layers.Conv2D(filters=num_classes, \n",
        "                                     kernel_size=(1, 1), \n",
        "                                     strides=(1, 1), \n",
        "                                     padding='same', \n",
        "                                     activation='softmax')) \n",
        "     \n",
        "    return model"
      ],
      "execution_count": null,
      "outputs": []
    },
    {
      "cell_type": "code",
      "metadata": {
        "id": "w6FYNTe6Y9r_"
      },
      "source": [
        "'''\n",
        "model = create_vgg_model(depth=5, \n",
        "                         start_f=8, \n",
        "                         num_classes = 3)\n",
        "                         \n",
        "model.summary()\n",
        "'''"
      ],
      "execution_count": null,
      "outputs": []
    },
    {
      "cell_type": "markdown",
      "metadata": {
        "id": "T42WzIS7gpvU"
      },
      "source": [
        "## uNet-like architecture"
      ]
    },
    {
      "cell_type": "code",
      "metadata": {
        "id": "ZOpr0AjkavfR"
      },
      "source": [
        "pip install keras-unet"
      ],
      "execution_count": null,
      "outputs": []
    },
    {
      "cell_type": "code",
      "metadata": {
        "id": "WridHSQ8jFrS"
      },
      "source": [
        "from keras_unet.models import custom_unet"
      ],
      "execution_count": null,
      "outputs": []
    },
    {
      "cell_type": "code",
      "metadata": {
        "id": "Y3MVzStTjJVw",
        "colab": {
          "base_uri": "https://localhost:8080/",
          "height": 35
        },
        "outputId": "fa9b947a-14d4-4ae5-d28f-f9dbb5f313a7"
      },
      "source": [
        "'''\n",
        "model = custom_unet(\n",
        "    input_shape=(img_w, img_h, 3),\n",
        "    use_batch_norm=True,\n",
        "    num_classes=3,\n",
        "    filters=20,\n",
        "    dropout=0.2,\n",
        "    output_activation='softmax')\n",
        "    '''"
      ],
      "execution_count": null,
      "outputs": [
        {
          "output_type": "execute_result",
          "data": {
            "application/vnd.google.colaboratory.intrinsic+json": {
              "type": "string"
            },
            "text/plain": [
              "\"\\nmodel = custom_unet(\\n    input_shape=(img_w, img_h, 3),\\n    use_batch_norm=True,\\n    num_classes=3,\\n    filters=20,\\n    dropout=0.2,\\n    output_activation='softmax')\""
            ]
          },
          "metadata": {
            "tags": []
          },
          "execution_count": 32
        }
      ]
    },
    {
      "cell_type": "markdown",
      "metadata": {
        "id": "c5bzyYA3g5f_"
      },
      "source": [
        "## Compiling"
      ]
    },
    {
      "cell_type": "code",
      "metadata": {
        "id": "MwSTrHB5UPs6"
      },
      "source": [
        "# Optimization parameters\n",
        "loss = tf.keras.losses.SparseCategoricalCrossentropy()\n",
        "\n",
        "# learning rate\n",
        "lr = 3e-4\n",
        "optimizer = tf.keras.optimizers.Adam(learning_rate=lr)\n",
        "\n",
        "# Here we define the intersection over union for each class in the batch.\n",
        "# Then we compute the final iou as the mean over classes\n",
        "def meanIoU(y_true, y_pred):\n",
        "    # get predicted class from softmax\n",
        "    y_pred = tf.expand_dims(tf.argmax(y_pred, -1), -1)\n",
        "\n",
        "    per_class_iou = []\n",
        "\n",
        "    for i in range(1,3): \n",
        "      class_pred = tf.cast(tf.where(y_pred == i, 1, 0), tf.float32)\n",
        "      class_true = tf.cast(tf.where(y_true == i, 1, 0), tf.float32)\n",
        "      intersection = tf.reduce_sum(class_true * class_pred)\n",
        "      union = tf.reduce_sum(class_true) + tf.reduce_sum(class_pred) - intersection\n",
        "    \n",
        "      if union == float(0):\n",
        "        iou = float(1)\n",
        "      else:\n",
        "        iou = intersection / union\n",
        "        \n",
        "      per_class_iou.append(iou)\n",
        "\n",
        "    return tf.reduce_mean(per_class_iou)\n",
        "\n",
        "# Validation metrics\n",
        "metrics = ['accuracy', meanIoU]\n",
        "\n",
        "# Compile Model\n",
        "model.compile(optimizer=optimizer, loss=loss, metrics=metrics)"
      ],
      "execution_count": null,
      "outputs": []
    },
    {
      "cell_type": "markdown",
      "metadata": {
        "id": "MW6PVLR2UxYq"
      },
      "source": [
        "# Tensorboard + Callbacks"
      ]
    },
    {
      "cell_type": "code",
      "metadata": {
        "id": "BLTpDv3FUvD5"
      },
      "source": [
        "%load_ext tensorboard\n",
        "%tensorboard --logdir \"/content/drive/My Drive/weeds_localizator/experiments\""
      ],
      "execution_count": null,
      "outputs": []
    },
    {
      "cell_type": "code",
      "metadata": {
        "id": "E7eQ7ni4UjIZ"
      },
      "source": [
        "exps_dir = os.path.join('/content/drive/My Drive/weeds_localizator', 'experiments')\n",
        "if not os.path.exists(exps_dir):\n",
        "    os.makedirs(exps_dir)\n",
        "\n",
        "now = datetime.now().strftime('%b%d_%H-%M-%S')\n",
        "\n",
        "model_name = 'Enc-Dec'\n",
        "\n",
        "exp_dir = os.path.join(exps_dir, model_name + '_' + str(now))\n",
        "if not os.path.exists(exp_dir):\n",
        "    os.makedirs(exp_dir)\n",
        "    \n",
        "callbacks = []\n",
        "\n",
        "# Model checkpoint\n",
        "ckpt_dir = os.path.join(exp_dir, 'ckpts')\n",
        "if not os.path.exists(ckpt_dir):\n",
        "    os.makedirs(ckpt_dir)\n",
        "\n",
        "ckpt_callback = tf.keras.callbacks.ModelCheckpoint(filepath=os.path.join(ckpt_dir, 'cp_{epoch:02d}.ckpt'), \n",
        "                                                   save_weights_only=True)  # False to save the model directly\n",
        "callbacks.append(ckpt_callback)\n",
        "\n",
        "# Visualize Learning on Tensorboard\n",
        "tb_dir = os.path.join(exp_dir, 'tb_logs')\n",
        "if not os.path.exists(tb_dir):\n",
        "    os.makedirs(tb_dir)\n",
        "    \n",
        "# By default shows losses and metrics for both training and validation\n",
        "tb_callback = tf.keras.callbacks.TensorBoard(log_dir=tb_dir,\n",
        "                                             profile_batch=0,\n",
        "                                             histogram_freq=1)  # if 1 shows weights histograms\n",
        "callbacks.append(tb_callback)\n",
        "\n",
        "# Early Stopping\n",
        "early_stop = True\n",
        "if early_stop:\n",
        "    es_callback = tf.keras.callbacks.EarlyStopping(monitor='val_meanIoU', mode = 'max', patience=8, restore_best_weights=True)\n",
        "    callbacks.append(es_callback)"
      ],
      "execution_count": null,
      "outputs": []
    },
    {
      "cell_type": "markdown",
      "metadata": {
        "id": "L-MNVZ6Qg-ZG"
      },
      "source": [
        "## Training"
      ]
    },
    {
      "cell_type": "code",
      "metadata": {
        "id": "inQ4a_l7fD9e"
      },
      "source": [
        "Train_step_size = math.floor(len(train_gen) / bs)\n",
        "\n",
        "valid_size_multiplier = 1\n",
        "# If the valid_dataset is big enough, just set this parameter to 1 \n",
        "# If the valid_dataset is small (it may happen for example when working with just one dataset e.g. 'Bipbip - Haricot') set this parameter to 2, 3, 4, ...\n",
        "# in this way you validate the model on a number equals to 'valid_size_multiplier' of random crops for each image from the validation dataset.\n",
        "\n",
        "Valid_step_size = math.floor(valid_size_multiplier * len(valid_gen) / bs)"
      ],
      "execution_count": null,
      "outputs": []
    },
    {
      "cell_type": "code",
      "metadata": {
        "id": "qR-vTmDmgMxq"
      },
      "source": [
        "history = model.fit(x=train_dataset,\n",
        "                    epochs=40,\n",
        "                    steps_per_epoch=Train_step_size,\n",
        "                    validation_data=valid_dataset,\n",
        "                    validation_steps=Valid_step_size,\n",
        "                    callbacks=callbacks)"
      ],
      "execution_count": null,
      "outputs": []
    },
    {
      "cell_type": "code",
      "metadata": {
        "id": "N0TrDZiiFrKd"
      },
      "source": [
        "# Learning Rate reduction and reset of the optimizer. (Before lr was equal to 5e-4)\n",
        "\n",
        "lr = 1e-4\n",
        "optimizer = tf.keras.optimizers.Adam(learning_rate=lr)\n",
        "\n",
        "model.compile(optimizer=optimizer, loss=loss, metrics=metrics)"
      ],
      "execution_count": null,
      "outputs": []
    },
    {
      "cell_type": "code",
      "metadata": {
        "id": "cjvoQMCqAg6T"
      },
      "source": [
        "history2 = model.fit(x=train_dataset,\n",
        "                    epochs=20,\n",
        "                    steps_per_epoch=Train_step_size,\n",
        "                    validation_data=valid_dataset,\n",
        "                    validation_steps=Valid_step_size,\n",
        "                    callbacks=callbacks)"
      ],
      "execution_count": null,
      "outputs": []
    },
    {
      "cell_type": "code",
      "metadata": {
        "id": "C2dgnwVjgbbE",
        "colab": {
          "base_uri": "https://localhost:8080/"
        },
        "outputId": "63ac1acf-591f-44cc-e1f5-fc61a4f17a0e"
      },
      "source": [
        "# Best model weights are at the 15° checkpoint\n",
        "\n",
        "# model.load_weights('/content/drive/My Drive/weeds_localizator/experiments/Enc-Dec_Dec15_15-46-30/ckpts/cp_15.ckpt')"
      ],
      "execution_count": null,
      "outputs": [
        {
          "output_type": "execute_result",
          "data": {
            "text/plain": [
              "<tensorflow.python.training.tracking.util.CheckpointLoadStatus at 0x7f9e9f08df28>"
            ]
          },
          "metadata": {
            "tags": []
          },
          "execution_count": 64
        }
      ]
    },
    {
      "cell_type": "markdown",
      "metadata": {
        "id": "IAhF12IhhEPL"
      },
      "source": [
        "# Testing"
      ]
    },
    {
      "cell_type": "markdown",
      "metadata": {
        "id": "y_mnl6NyRE9u"
      },
      "source": [
        "## Visualize one prediction"
      ]
    },
    {
      "cell_type": "code",
      "metadata": {
        "colab": {
          "base_uri": "https://localhost:8080/",
          "height": 285
        },
        "id": "lIXfL3AZMhAl",
        "outputId": "88790797-114f-4f5c-cc50-b9a3a5efeebf"
      },
      "source": [
        "# Uncomment what you like to see\n",
        "\n",
        "index_in_batch = 0    # Integer from 0 to bs-1\n",
        "\n",
        "mask_prova = model.predict(augmented_img)\n",
        "#plt.imshow(mask_prova[index_in_batch,...,1])                 # Show raw mask\n",
        "plt.imshow(np.argmax(mask_prova[index_in_batch], axis=-1))   # Show mask\n",
        "#plt.imshow(np.uint8(augmented_img[index_in_batch]))           # Show image\n"
      ],
      "execution_count": null,
      "outputs": [
        {
          "output_type": "execute_result",
          "data": {
            "text/plain": [
              "<matplotlib.image.AxesImage at 0x7f9eb3e2fc18>"
            ]
          },
          "metadata": {
            "tags": []
          },
          "execution_count": 80
        },
        {
          "output_type": "display_data",
          "data": {
            "image/png": "[encoded data removed]",
            "text/plain": [
              "<Figure size 432x288 with 1 Axes>"
            ]
          },
          "metadata": {
            "tags": [],
            "needs_background": "light"
          }
        }
      ]
    },
    {
      "cell_type": "markdown",
      "metadata": {
        "id": "KkwLD22SVG-8"
      },
      "source": [
        "## Generate '.json' submission file"
      ]
    },
    {
      "cell_type": "code",
      "metadata": {
        "id": "Q5nntKS0twE9"
      },
      "source": [
        "# Tiling testing functions\n",
        "\n",
        "def sum_mask(mask_raw, mask_crop, corner): # Wants np arrays, returns np arrays\n",
        "\n",
        "  x,y = corner\n",
        "  y_end = y + mask_crop.shape[0]\n",
        "  x_end = x + mask_crop.shape[1]\n",
        "  mask_raw[x:x_end,y:y_end,:] += mask_crop[:,:,:]\n",
        "\n",
        "  return mask_raw\n",
        "\n",
        "\n",
        "# 'img' is a PIL Image, out_dim is the dimension of the NN squared input (for ex. out_dim = 256), overlap is in pixel.\n",
        "# Returns a np.array with the same size of 'img', containing the combined preditions of NN in 'tiling mode' \n",
        "\n",
        "def tiling_pred_mask(img, out_dim, overlap, model): \n",
        "  w, h = img.size\n",
        "  corner_list = [] # corners of crops\n",
        "\n",
        "  # corner generator\n",
        "  y = 0\n",
        "  while(True):\n",
        "    if y + out_dim < h:\n",
        "      x = 0\n",
        "      while(True):\n",
        "        if x + out_dim < w: # image can be still cropped\n",
        "          corner_list.append([x,y])\n",
        "          x = x + out_dim - overlap # horizontal shift\n",
        "        else:\n",
        "          corner_list.append([w-out_dim, y]) # last\n",
        "          break # next y\n",
        "      y = y + out_dim - overlap\n",
        "    else:\n",
        "      x = 0\n",
        "      y = h - out_dim\n",
        "      while(True):\n",
        "        if x + out_dim < w: \n",
        "          corner_list.append([x,y])\n",
        "          x = x + out_dim - overlap \n",
        "        else:\n",
        "          corner_list.append([w-out_dim, y])\n",
        "          break\n",
        "      break\n",
        "\n",
        "    mask_raw = np.zeros(shape = (w, h, 3)) # 3 like the number of classes\n",
        "    for corner in corner_list:\n",
        "      img_crop = np.array(img.crop((corner[0],corner[1],corner[0]+out_dim,corner[1]+out_dim))) # cropping the image\n",
        "      img_crop = np.expand_dims(img_crop, 0)\n",
        "      mask_crop_raw = model.predict(img_crop) # prediction\n",
        "      mask_crop = mask_crop_raw[0]\n",
        "      mask_crop = np.transpose(mask_crop, axes = (1,0,2))\n",
        "      mask_raw = sum_mask(mask_raw, mask_crop, corner) # simple sum, respecting coordinates\n",
        "    \n",
        "    # Now, mask_raw contains the sum of all predictions, mapped into the right coordinates\n",
        "    pred_mask = np.argmax(mask_raw, axis = -1)\n",
        "    pred_mask = np.transpose(pred_mask, axes = (1,0)) # Transpose axis (because Image -> numpy conversion changed them)\n",
        "\n",
        "  return pred_mask"
      ],
      "execution_count": null,
      "outputs": []
    },
    {
      "cell_type": "code",
      "metadata": {
        "id": "QhWUv3Ap_jQN"
      },
      "source": [
        "def rle_encode(img):\n",
        "    pixels = img.flatten()\n",
        "    pixels = np.concatenate([[0], pixels, [0]])\n",
        "    runs = np.where(pixels[1:] != pixels[:-1])[0] + 1\n",
        "    runs[1::2] -= runs[::2]\n",
        "    return ' '.join(str(x) for x in runs)"
      ],
      "execution_count": null,
      "outputs": []
    },
    {
      "cell_type": "code",
      "metadata": {
        "id": "k2Ubvlg82YPm"
      },
      "source": [
        "# Getting test filepaths\n",
        "\n",
        "test_filenames = []\n",
        "for r, d, f in os.walk(dataset_dir + 'Test_Dev'):\n",
        "    for file in f:\n",
        "        if('.png' in file or '.jpg' in file):\n",
        "            test_filenames.append(r + '/' + file)\n",
        "\n",
        "\n",
        "\n",
        "# Open each image and make the mask prediction\n",
        "\n",
        "submission_dict = {}\n",
        "for test_filename in test_filenames:\n",
        "  team = test_filename.split(\"/\")[-4]\n",
        "  crop = test_filename.split(\"/\")[-3]\n",
        "  img_name = (test_filename.split(\"/\")[-1]).split(\".\")[0]\n",
        "  \n",
        "  # Image loading and converting to RGB mode\n",
        "  img = Image.open(os.path.join(dataset_dir,test_filename)).convert('RGB')\n",
        "\n",
        "  if tiling:\n",
        "    pred_mask = tiling_pred_mask(img, img_h, 10, model)\n",
        "  else:\n",
        "    img_shape = img.size\n",
        "    # Resizing it to make it suitable to the model structure\n",
        "    img = img.resize((img_h,img_w))\n",
        "    img_array = np.array(img)\n",
        "    out_sigmoid = model.predict(x=tf.expand_dims(img_array, 0)) \n",
        "    pred_mask = tf.argmax(out_sigmoid, axis=-1)\n",
        "    pred_mask = pred_mask[0, ...]\n",
        "    pred_mask = np.array(pred_mask)\n",
        "    \n",
        "  submission_dict[img_name] = {}\n",
        "  submission_dict[img_name]['shape'] = pred_mask.shape\n",
        "  submission_dict[img_name]['team'] = team\n",
        "  submission_dict[img_name]['crop'] = crop\n",
        "  submission_dict[img_name]['segmentation'] = {}\n",
        "\n",
        "  # RLE encoding\n",
        "  # crop\n",
        "  rle_encoded_crop = rle_encode(pred_mask == 1)\n",
        "  # weed\n",
        "  rle_encoded_weed = rle_encode(pred_mask == 2)\n",
        "\n",
        "  submission_dict[img_name]['segmentation']['crop'] = rle_encoded_crop\n",
        "  submission_dict[img_name]['segmentation']['weed'] = rle_encoded_weed\n",
        "\n",
        "\n",
        "\n",
        "# Generate .json file\n",
        "\n",
        "result_file = 'result_' + datetime.now().strftime('%b%d_%H-%M-%S') + '.json'\n",
        "with open(os.path.join(cwd, '/content/drive/My Drive/weeds_localizator/results/' + result_file), 'w') as f:\n",
        "    json.dump(submission_dict, f)"
      ],
      "execution_count": null,
      "outputs": []
    }
  ]
}